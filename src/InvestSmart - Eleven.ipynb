{
 "cells": [
  {
   "metadata": {},
   "cell_type": "markdown",
   "source": "# Instale os requerimentos para o projeto",
   "id": "77aa69406ebe94d5"
  },
  {
   "metadata": {},
   "cell_type": "raw",
   "source": "!pip install requirements.txt",
   "id": "56f651e01275d485",
   "outputs": null,
   "execution_count": null
  },
  {
   "metadata": {
    "ExecuteTime": {
     "end_time": "2024-03-27T01:03:05.418861Z",
     "start_time": "2024-03-27T01:03:04.550733Z"
    }
   },
   "cell_type": "code",
   "source": [
    "import pandas as pd\n",
    "import yfinance as yf\n",
    "\n",
    "invest_smart_data = pd.read_csv('../data/invest_smart.csv', sep=',')\n"
   ],
   "id": "cb3d6c9dd53bd6c4",
   "outputs": [],
   "execution_count": 1
  },
  {
   "metadata": {},
   "cell_type": "markdown",
   "source": "# Vizualizando as primeiras linhas da tabela",
   "id": "842d982c0c65bcb9"
  },
  {
   "metadata": {
    "ExecuteTime": {
     "end_time": "2024-03-27T01:03:05.439434Z",
     "start_time": "2024-03-27T01:03:05.419872Z"
    }
   },
   "cell_type": "code",
   "source": "invest_smart_data.head()",
   "id": "d83fd01d1b2b777a",
   "outputs": [
    {
     "data": {
      "text/plain": [
       "   ticket  percentage  price  has_in_wallet  percentage_in_value  \\\n",
       "0   ASAI3         5.0  14.37           True                250.0   \n",
       "1   VIVA3         5.0  25.08          False                250.0   \n",
       "2   VALE3         5.0  60.95           True                250.0   \n",
       "3  BPAC11        10.0  36.69          False                500.0   \n",
       "4   CPLE6        10.0  10.05          False                500.0   \n",
       "\n",
       "   number_of_quotes  \n",
       "0              17.0  \n",
       "1              10.0  \n",
       "2               4.0  \n",
       "3              14.0  \n",
       "4              50.0  "
      ],
      "text/html": [
       "<div>\n",
       "<style scoped>\n",
       "    .dataframe tbody tr th:only-of-type {\n",
       "        vertical-align: middle;\n",
       "    }\n",
       "\n",
       "    .dataframe tbody tr th {\n",
       "        vertical-align: top;\n",
       "    }\n",
       "\n",
       "    .dataframe thead th {\n",
       "        text-align: right;\n",
       "    }\n",
       "</style>\n",
       "<table border=\"1\" class=\"dataframe\">\n",
       "  <thead>\n",
       "    <tr style=\"text-align: right;\">\n",
       "      <th></th>\n",
       "      <th>ticket</th>\n",
       "      <th>percentage</th>\n",
       "      <th>price</th>\n",
       "      <th>has_in_wallet</th>\n",
       "      <th>percentage_in_value</th>\n",
       "      <th>number_of_quotes</th>\n",
       "    </tr>\n",
       "  </thead>\n",
       "  <tbody>\n",
       "    <tr>\n",
       "      <th>0</th>\n",
       "      <td>ASAI3</td>\n",
       "      <td>5.0</td>\n",
       "      <td>14.37</td>\n",
       "      <td>True</td>\n",
       "      <td>250.0</td>\n",
       "      <td>17.0</td>\n",
       "    </tr>\n",
       "    <tr>\n",
       "      <th>1</th>\n",
       "      <td>VIVA3</td>\n",
       "      <td>5.0</td>\n",
       "      <td>25.08</td>\n",
       "      <td>False</td>\n",
       "      <td>250.0</td>\n",
       "      <td>10.0</td>\n",
       "    </tr>\n",
       "    <tr>\n",
       "      <th>2</th>\n",
       "      <td>VALE3</td>\n",
       "      <td>5.0</td>\n",
       "      <td>60.95</td>\n",
       "      <td>True</td>\n",
       "      <td>250.0</td>\n",
       "      <td>4.0</td>\n",
       "    </tr>\n",
       "    <tr>\n",
       "      <th>3</th>\n",
       "      <td>BPAC11</td>\n",
       "      <td>10.0</td>\n",
       "      <td>36.69</td>\n",
       "      <td>False</td>\n",
       "      <td>500.0</td>\n",
       "      <td>14.0</td>\n",
       "    </tr>\n",
       "    <tr>\n",
       "      <th>4</th>\n",
       "      <td>CPLE6</td>\n",
       "      <td>10.0</td>\n",
       "      <td>10.05</td>\n",
       "      <td>False</td>\n",
       "      <td>500.0</td>\n",
       "      <td>50.0</td>\n",
       "    </tr>\n",
       "  </tbody>\n",
       "</table>\n",
       "</div>"
      ]
     },
     "execution_count": 2,
     "metadata": {},
     "output_type": "execute_result"
    }
   ],
   "execution_count": 2
  },
  {
   "metadata": {},
   "cell_type": "markdown",
   "source": "# Pegando cotacoes",
   "id": "decce8894944739"
  },
  {
   "metadata": {
    "ExecuteTime": {
     "end_time": "2024-03-27T01:03:13.266336Z",
     "start_time": "2024-03-27T01:03:05.439434Z"
    }
   },
   "cell_type": "code",
   "source": [
    "def transform_sa(active):\n",
    "    return active + '.SA'\n",
    "\n",
    "\n",
    "tickets = invest_smart_data['ticket'].tolist()\n",
    "for ticket in tickets:\n",
    "    ticker_yahoo = yf.Ticker(transform_sa(ticket))\n",
    "    data = ticker_yahoo.history()\n",
    "    last_quote = data['Close'].iloc[-1]\n",
    "    print(ticket, last_quote)"
   ],
   "id": "740b3013d3aee12f",
   "outputs": [
    {
     "name": "stdout",
     "output_type": "stream",
     "text": [
      "ASAI3 14.449999809265137\n",
      "VIVA3 24.68000030517578\n",
      "VALE3 60.04999923706055\n",
      "BPAC11 37.290000915527344\n",
      "CPLE6 9.75\n",
      "CSAN3 16.010000228881836\n",
      "ELET3 42.43000030517578\n",
      "ITUB4 34.38999938964844\n",
      "MILS3 13.5\n",
      "MULT3 26.200000762939453\n",
      "PETR4 36.2599983215332\n",
      "RAPT4 12.649999618530273\n",
      "VIVT3 50.59000015258789\n"
     ]
    }
   ],
   "execution_count": 3
  },
  {
   "metadata": {},
   "cell_type": "markdown",
   "source": "# Adiciona a cotacao atual ao data frame",
   "id": "e666bc4d7fc12cca"
  },
  {
   "metadata": {
    "ExecuteTime": {
     "end_time": "2024-03-27T01:03:13.898832Z",
     "start_time": "2024-03-27T01:03:13.267340Z"
    }
   },
   "cell_type": "code",
   "source": [
    "for ticket in tickets:\n",
    "    invest_smart_data.loc[invest_smart_data.ticket == ticket, 'price'] = round(\n",
    "        yf.Ticker(transform_sa(ticket)).history()['Close'].iloc[-1], 2)"
   ],
   "id": "493a2d8979347ea3",
   "outputs": [],
   "execution_count": 4
  },
  {
   "metadata": {},
   "cell_type": "markdown",
   "source": "# Função para atualizar os dados",
   "id": "81a971e8c28015ee"
  },
  {
   "metadata": {
    "ExecuteTime": {
     "end_time": "2024-03-27T01:03:13.903666Z",
     "start_time": "2024-03-27T01:03:13.899838Z"
    }
   },
   "cell_type": "code",
   "source": [
    "def update_csv():\n",
    "    invest_smart_data.to_csv('../data/invest_smart.csv', index=False)"
   ],
   "id": "516862f489409765",
   "outputs": [],
   "execution_count": 5
  },
  {
   "metadata": {},
   "cell_type": "markdown",
   "source": "# Adiciona valor total conforme porcentagem",
   "id": "11eeebe224d94fe0"
  },
  {
   "metadata": {
    "ExecuteTime": {
     "end_time": "2024-03-27T01:03:13.928765Z",
     "start_time": "2024-03-27T01:03:13.904673Z"
    }
   },
   "cell_type": "code",
   "source": [
    "def add_total_value(total_value):\n",
    "    for ticket_action in tickets:\n",
    "        invest_smart_data.loc[invest_smart_data.ticket == ticket_action, 'percentage_in_value'] = round(\n",
    "            total_value * invest_smart_data.loc[invest_smart_data.ticket == ticket_action]['percentage']) / 100\n",
    "\n",
    "\n",
    "add_total_value(5000)"
   ],
   "id": "5a6cc9c1cc4927f3",
   "outputs": [],
   "execution_count": 6
  },
  {
   "metadata": {},
   "cell_type": "markdown",
   "source": "# Calcula a quantidade de cotas possivéis para compra com base no valor por porcentagem",
   "id": "2ed9457b46bc33c1"
  },
  {
   "metadata": {
    "ExecuteTime": {
     "end_time": "2024-03-27T01:03:13.943636Z",
     "start_time": "2024-03-27T01:03:13.929771Z"
    }
   },
   "cell_type": "code",
   "source": [
    "def number_of_quotes():\n",
    "    for ticket_action in tickets:\n",
    "        invest_smart_data.loc[invest_smart_data.ticket == ticket_action, 'number_of_quotes'] = round(\n",
    "            invest_smart_data.loc[invest_smart_data.ticket == ticket_action, 'percentage_in_value'] /\n",
    "            invest_smart_data.loc[invest_smart_data.ticket == ticket_action]['price'])\n",
    "        \n",
    "number_of_quotes()"
   ],
   "id": "8d8760d62146ed86",
   "outputs": [],
   "execution_count": 7
  },
  {
   "metadata": {},
   "cell_type": "markdown",
   "source": "# Atualiza a tabela com os dados",
   "id": "17b52af54fc9607c"
  },
  {
   "metadata": {
    "ExecuteTime": {
     "end_time": "2024-03-27T01:03:13.962656Z",
     "start_time": "2024-03-27T01:03:13.944641Z"
    }
   },
   "cell_type": "code",
   "source": "update_csv()",
   "id": "14f8ea121b4412df",
   "outputs": [],
   "execution_count": 8
  },
  {
   "metadata": {
    "ExecuteTime": {
     "end_time": "2024-03-27T01:03:13.965748Z",
     "start_time": "2024-03-27T01:03:13.963671Z"
    }
   },
   "cell_type": "code",
   "source": "",
   "id": "27ff097ca164237a",
   "outputs": [],
   "execution_count": 8
  }
 ],
 "metadata": {
  "kernelspec": {
   "display_name": "Python 3",
   "language": "python",
   "name": "python3"
  },
  "language_info": {
   "codemirror_mode": {
    "name": "ipython",
    "version": 2
   },
   "file_extension": ".py",
   "mimetype": "text/x-python",
   "name": "python",
   "nbconvert_exporter": "python",
   "pygments_lexer": "ipython2",
   "version": "2.7.6"
  }
 },
 "nbformat": 4,
 "nbformat_minor": 5
}
