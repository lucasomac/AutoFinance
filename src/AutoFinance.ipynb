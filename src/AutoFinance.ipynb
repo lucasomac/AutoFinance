{
 "cells": [
  {
   "metadata": {},
   "cell_type": "markdown",
   "source": "# Instale os requerimentos para o projeto",
   "id": "77aa69406ebe94d5"
  },
  {
   "metadata": {},
   "cell_type": "raw",
   "source": "!pip install requirements.txt",
   "id": "56f651e01275d485",
   "outputs": null,
   "execution_count": null
  },
  {
   "metadata": {
    "ExecuteTime": {
     "end_time": "2024-03-01T03:20:35.988807Z",
     "start_time": "2024-03-01T03:20:35.983122Z"
    }
   },
   "cell_type": "code",
   "source": [
    "import pandas as pd\n",
    "import yfinance as yf\n",
    "\n",
    "smart_ifix_data = pd.read_csv('../data/smart_ifix.csv', sep=',')\n"
   ],
   "id": "cb3d6c9dd53bd6c4",
   "outputs": [],
   "execution_count": 26
  },
  {
   "metadata": {},
   "cell_type": "markdown",
   "source": "# Vizualizando as primeiras linhas da tabela",
   "id": "842d982c0c65bcb9"
  },
  {
   "metadata": {
    "ExecuteTime": {
     "end_time": "2024-03-01T03:20:38.158776Z",
     "start_time": "2024-03-01T03:20:38.150315Z"
    }
   },
   "cell_type": "code",
   "source": "smart_ifix_data.head()",
   "id": "d83fd01d1b2b777a",
   "outputs": [
    {
     "data": {
      "text/plain": [
       "   ticket  percentage       price has_in_wallet\"\n",
       "0  HGLG11           7  169.990005          True\"\n",
       "1  LVBI11           7  117.849998         False\"\n",
       "2  CVBI11           6   95.500000          True\"\n",
       "3  VCJR11           6   94.930000         False\"\n",
       "4  AFHI11           5   98.000000         False\""
      ],
      "text/html": [
       "<div>\n",
       "<style scoped>\n",
       "    .dataframe tbody tr th:only-of-type {\n",
       "        vertical-align: middle;\n",
       "    }\n",
       "\n",
       "    .dataframe tbody tr th {\n",
       "        vertical-align: top;\n",
       "    }\n",
       "\n",
       "    .dataframe thead th {\n",
       "        text-align: right;\n",
       "    }\n",
       "</style>\n",
       "<table border=\"1\" class=\"dataframe\">\n",
       "  <thead>\n",
       "    <tr style=\"text-align: right;\">\n",
       "      <th></th>\n",
       "      <th>ticket</th>\n",
       "      <th>percentage</th>\n",
       "      <th>price</th>\n",
       "      <th>has_in_wallet\"</th>\n",
       "    </tr>\n",
       "  </thead>\n",
       "  <tbody>\n",
       "    <tr>\n",
       "      <th>0</th>\n",
       "      <td>HGLG11</td>\n",
       "      <td>7</td>\n",
       "      <td>169.990005</td>\n",
       "      <td>True\"</td>\n",
       "    </tr>\n",
       "    <tr>\n",
       "      <th>1</th>\n",
       "      <td>LVBI11</td>\n",
       "      <td>7</td>\n",
       "      <td>117.849998</td>\n",
       "      <td>False\"</td>\n",
       "    </tr>\n",
       "    <tr>\n",
       "      <th>2</th>\n",
       "      <td>CVBI11</td>\n",
       "      <td>6</td>\n",
       "      <td>95.500000</td>\n",
       "      <td>True\"</td>\n",
       "    </tr>\n",
       "    <tr>\n",
       "      <th>3</th>\n",
       "      <td>VCJR11</td>\n",
       "      <td>6</td>\n",
       "      <td>94.930000</td>\n",
       "      <td>False\"</td>\n",
       "    </tr>\n",
       "    <tr>\n",
       "      <th>4</th>\n",
       "      <td>AFHI11</td>\n",
       "      <td>5</td>\n",
       "      <td>98.000000</td>\n",
       "      <td>False\"</td>\n",
       "    </tr>\n",
       "  </tbody>\n",
       "</table>\n",
       "</div>"
      ]
     },
     "execution_count": 27,
     "metadata": {},
     "output_type": "execute_result"
    }
   ],
   "execution_count": 27
  },
  {
   "metadata": {},
   "cell_type": "markdown",
   "source": "# Pegando cotacoes",
   "id": "decce8894944739"
  },
  {
   "metadata": {
    "ExecuteTime": {
     "end_time": "2024-03-01T03:16:07.953330Z",
     "start_time": "2024-03-01T03:16:03.456928Z"
    }
   },
   "cell_type": "code",
   "source": [
    "def transform_sa(active):\n",
    "    return active + '.SA'\n",
    "\n",
    "\n",
    "tickets = smart_ifix_data['ticket'].tolist()\n",
    "for ticket in tickets:\n",
    "    ticker_yahoo = yf.Ticker(transform_sa(ticket))\n",
    "    data = ticker_yahoo.history()\n",
    "    last_quote = data['Close'].iloc[-1]\n",
    "    print(ticket, last_quote)"
   ],
   "id": "740b3013d3aee12f",
   "outputs": [
    {
     "name": "stdout",
     "output_type": "stream",
     "text": [
      "HGLG11 169.99000549316406\n",
      "LVBI11 117.8499984741211\n",
      "CVBI11 95.5\n",
      "VCJR11 94.93000030517578\n",
      "AFHI11 98.0\n",
      "RBRY11 99.7699966430664\n",
      "HGBS11 229.60000610351562\n",
      "JSAF11 102.3499984741211\n",
      "MCHY11 11.770000457763672\n",
      "RBRF11 8.149999618530273\n",
      "VILG11 92.0\n",
      "HSML11 96.94000244140625\n",
      "JSRE11 75.41000366210938\n",
      "KNSC11 9.15999984741211\n",
      "CPTS11 8.520000457763672\n",
      "GARE11 9.119999885559082\n",
      "HGPO11 292.9800109863281\n",
      "RBVA11 113.19999694824219\n",
      "RCRB11 160.3000030517578\n",
      "TGAR11 124.9800033569336\n",
      "TRXF11 114.0199966430664\n",
      "XPML11 118.18000030517578\n",
      "RBRP11 59.45000076293945\n"
     ]
    }
   ],
   "execution_count": 21
  },
  {
   "metadata": {},
   "cell_type": "markdown",
   "source": "# Adiciona a cotacao atual ao data frame",
   "id": "e666bc4d7fc12cca"
  },
  {
   "metadata": {
    "ExecuteTime": {
     "end_time": "2024-03-01T03:22:04.418761Z",
     "start_time": "2024-03-01T03:21:58.285522Z"
    }
   },
   "cell_type": "code",
   "source": [
    "for ticket in tickets:\n",
    "    smart_ifix_data.loc[smart_ifix_data.ticket == ticket, 'price'] = round(\n",
    "        yf.Ticker(transform_sa(ticket)).history()['Close'].iloc[-1], 2)"
   ],
   "id": "493a2d8979347ea3",
   "outputs": [],
   "execution_count": 28
  },
  {
   "metadata": {},
   "cell_type": "markdown",
   "source": "# Guarda as informações atualizadas",
   "id": "81a971e8c28015ee"
  },
  {
   "metadata": {
    "ExecuteTime": {
     "end_time": "2024-03-01T03:22:09.733696Z",
     "start_time": "2024-03-01T03:22:09.723851Z"
    }
   },
   "cell_type": "code",
   "source": "smart_ifix_data.to_csv('../data/smart_ifix.csv', index=False)",
   "id": "516862f489409765",
   "outputs": [],
   "execution_count": 29
  },
  {
   "metadata": {
    "ExecuteTime": {
     "start_time": "2024-03-01T03:04:29.891538Z"
    }
   },
   "cell_type": "code",
   "source": "",
   "id": "73a044f89c521617",
   "outputs": [],
   "execution_count": null
  }
 ],
 "metadata": {
  "kernelspec": {
   "display_name": "Python 3",
   "language": "python",
   "name": "python3"
  },
  "language_info": {
   "codemirror_mode": {
    "name": "ipython",
    "version": 2
   },
   "file_extension": ".py",
   "mimetype": "text/x-python",
   "name": "python",
   "nbconvert_exporter": "python",
   "pygments_lexer": "ipython2",
   "version": "2.7.6"
  }
 },
 "nbformat": 4,
 "nbformat_minor": 5
}
